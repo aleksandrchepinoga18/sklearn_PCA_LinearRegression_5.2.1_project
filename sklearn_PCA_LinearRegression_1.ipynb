{
  "nbformat": 4,
  "nbformat_minor": 0,
  "metadata": {
    "colab": {
      "provenance": []
    },
    "kernelspec": {
      "name": "python3",
      "display_name": "Python 3"
    },
    "language_info": {
      "name": "python"
    }
  },
  "cells": [
    {
      "cell_type": "code",
      "execution_count": 5,
      "metadata": {
        "id": "4G0RWp2g5COa"
      },
      "outputs": [],
      "source": [
        "import pandas as pd\n",
        "import io # библиотека ввода вывода данных чтоб удобно было просто скопировав ввести данные\n",
        "\n",
        "import seaborn as sns\n",
        "import numpy as np\n",
        "from sklearn.linear_model import LinearRegression\n",
        "import io"
      ]
    },
    {
      "cell_type": "code",
      "source": [
        "data = \"\"\"id,X,Y\n",
        "1,12,20\n",
        "2,14,41\n",
        "3,24,62\n",
        "4,13,23\n",
        "5,15,28\n",
        "6,5,14\n",
        "7,16,33\n",
        "8,20,36\n",
        "9,3,9\n",
        "10,8,20\"\"\""
      ],
      "metadata": {
        "id": "QXhoDkXV5aCN"
      },
      "execution_count": 2,
      "outputs": []
    },
    {
      "cell_type": "code",
      "source": [
        "data = pd.read_csv(io.StringIO(data), index_col = 'id')\n",
        "data"
      ],
      "metadata": {
        "colab": {
          "base_uri": "https://localhost:8080/",
          "height": 394
        },
        "id": "uZ1MLGan5q6_",
        "outputId": "ef08c8dc-4e2b-4593-d4c4-6a899ca9ea28"
      },
      "execution_count": 3,
      "outputs": [
        {
          "output_type": "execute_result",
          "data": {
            "text/plain": [
              "     X   Y\n",
              "id        \n",
              "1   12  20\n",
              "2   14  41\n",
              "3   24  62\n",
              "4   13  23\n",
              "5   15  28\n",
              "6    5  14\n",
              "7   16  33\n",
              "8   20  36\n",
              "9    3   9\n",
              "10   8  20"
            ],
            "text/html": [
              "\n",
              "  <div id=\"df-5de3e3ff-946e-4e42-be38-4a40c6f4fe38\" class=\"colab-df-container\">\n",
              "    <div>\n",
              "<style scoped>\n",
              "    .dataframe tbody tr th:only-of-type {\n",
              "        vertical-align: middle;\n",
              "    }\n",
              "\n",
              "    .dataframe tbody tr th {\n",
              "        vertical-align: top;\n",
              "    }\n",
              "\n",
              "    .dataframe thead th {\n",
              "        text-align: right;\n",
              "    }\n",
              "</style>\n",
              "<table border=\"1\" class=\"dataframe\">\n",
              "  <thead>\n",
              "    <tr style=\"text-align: right;\">\n",
              "      <th></th>\n",
              "      <th>X</th>\n",
              "      <th>Y</th>\n",
              "    </tr>\n",
              "    <tr>\n",
              "      <th>id</th>\n",
              "      <th></th>\n",
              "      <th></th>\n",
              "    </tr>\n",
              "  </thead>\n",
              "  <tbody>\n",
              "    <tr>\n",
              "      <th>1</th>\n",
              "      <td>12</td>\n",
              "      <td>20</td>\n",
              "    </tr>\n",
              "    <tr>\n",
              "      <th>2</th>\n",
              "      <td>14</td>\n",
              "      <td>41</td>\n",
              "    </tr>\n",
              "    <tr>\n",
              "      <th>3</th>\n",
              "      <td>24</td>\n",
              "      <td>62</td>\n",
              "    </tr>\n",
              "    <tr>\n",
              "      <th>4</th>\n",
              "      <td>13</td>\n",
              "      <td>23</td>\n",
              "    </tr>\n",
              "    <tr>\n",
              "      <th>5</th>\n",
              "      <td>15</td>\n",
              "      <td>28</td>\n",
              "    </tr>\n",
              "    <tr>\n",
              "      <th>6</th>\n",
              "      <td>5</td>\n",
              "      <td>14</td>\n",
              "    </tr>\n",
              "    <tr>\n",
              "      <th>7</th>\n",
              "      <td>16</td>\n",
              "      <td>33</td>\n",
              "    </tr>\n",
              "    <tr>\n",
              "      <th>8</th>\n",
              "      <td>20</td>\n",
              "      <td>36</td>\n",
              "    </tr>\n",
              "    <tr>\n",
              "      <th>9</th>\n",
              "      <td>3</td>\n",
              "      <td>9</td>\n",
              "    </tr>\n",
              "    <tr>\n",
              "      <th>10</th>\n",
              "      <td>8</td>\n",
              "      <td>20</td>\n",
              "    </tr>\n",
              "  </tbody>\n",
              "</table>\n",
              "</div>\n",
              "    <div class=\"colab-df-buttons\">\n",
              "\n",
              "  <div class=\"colab-df-container\">\n",
              "    <button class=\"colab-df-convert\" onclick=\"convertToInteractive('df-5de3e3ff-946e-4e42-be38-4a40c6f4fe38')\"\n",
              "            title=\"Convert this dataframe to an interactive table.\"\n",
              "            style=\"display:none;\">\n",
              "\n",
              "  <svg xmlns=\"http://www.w3.org/2000/svg\" height=\"24px\" viewBox=\"0 -960 960 960\">\n",
              "    <path d=\"M120-120v-720h720v720H120Zm60-500h600v-160H180v160Zm220 220h160v-160H400v160Zm0 220h160v-160H400v160ZM180-400h160v-160H180v160Zm440 0h160v-160H620v160ZM180-180h160v-160H180v160Zm440 0h160v-160H620v160Z\"/>\n",
              "  </svg>\n",
              "    </button>\n",
              "\n",
              "  <style>\n",
              "    .colab-df-container {\n",
              "      display:flex;\n",
              "      gap: 12px;\n",
              "    }\n",
              "\n",
              "    .colab-df-convert {\n",
              "      background-color: #E8F0FE;\n",
              "      border: none;\n",
              "      border-radius: 50%;\n",
              "      cursor: pointer;\n",
              "      display: none;\n",
              "      fill: #1967D2;\n",
              "      height: 32px;\n",
              "      padding: 0 0 0 0;\n",
              "      width: 32px;\n",
              "    }\n",
              "\n",
              "    .colab-df-convert:hover {\n",
              "      background-color: #E2EBFA;\n",
              "      box-shadow: 0px 1px 2px rgba(60, 64, 67, 0.3), 0px 1px 3px 1px rgba(60, 64, 67, 0.15);\n",
              "      fill: #174EA6;\n",
              "    }\n",
              "\n",
              "    .colab-df-buttons div {\n",
              "      margin-bottom: 4px;\n",
              "    }\n",
              "\n",
              "    [theme=dark] .colab-df-convert {\n",
              "      background-color: #3B4455;\n",
              "      fill: #D2E3FC;\n",
              "    }\n",
              "\n",
              "    [theme=dark] .colab-df-convert:hover {\n",
              "      background-color: #434B5C;\n",
              "      box-shadow: 0px 1px 3px 1px rgba(0, 0, 0, 0.15);\n",
              "      filter: drop-shadow(0px 1px 2px rgba(0, 0, 0, 0.3));\n",
              "      fill: #FFFFFF;\n",
              "    }\n",
              "  </style>\n",
              "\n",
              "    <script>\n",
              "      const buttonEl =\n",
              "        document.querySelector('#df-5de3e3ff-946e-4e42-be38-4a40c6f4fe38 button.colab-df-convert');\n",
              "      buttonEl.style.display =\n",
              "        google.colab.kernel.accessAllowed ? 'block' : 'none';\n",
              "\n",
              "      async function convertToInteractive(key) {\n",
              "        const element = document.querySelector('#df-5de3e3ff-946e-4e42-be38-4a40c6f4fe38');\n",
              "        const dataTable =\n",
              "          await google.colab.kernel.invokeFunction('convertToInteractive',\n",
              "                                                    [key], {});\n",
              "        if (!dataTable) return;\n",
              "\n",
              "        const docLinkHtml = 'Like what you see? Visit the ' +\n",
              "          '<a target=\"_blank\" href=https://colab.research.google.com/notebooks/data_table.ipynb>data table notebook</a>'\n",
              "          + ' to learn more about interactive tables.';\n",
              "        element.innerHTML = '';\n",
              "        dataTable['output_type'] = 'display_data';\n",
              "        await google.colab.output.renderOutput(dataTable, element);\n",
              "        const docLink = document.createElement('div');\n",
              "        docLink.innerHTML = docLinkHtml;\n",
              "        element.appendChild(docLink);\n",
              "      }\n",
              "    </script>\n",
              "  </div>\n",
              "\n",
              "\n",
              "<div id=\"df-b177f1cc-74e4-42b3-8e6a-664010a23a56\">\n",
              "  <button class=\"colab-df-quickchart\" onclick=\"quickchart('df-b177f1cc-74e4-42b3-8e6a-664010a23a56')\"\n",
              "            title=\"Suggest charts\"\n",
              "            style=\"display:none;\">\n",
              "\n",
              "<svg xmlns=\"http://www.w3.org/2000/svg\" height=\"24px\"viewBox=\"0 0 24 24\"\n",
              "     width=\"24px\">\n",
              "    <g>\n",
              "        <path d=\"M19 3H5c-1.1 0-2 .9-2 2v14c0 1.1.9 2 2 2h14c1.1 0 2-.9 2-2V5c0-1.1-.9-2-2-2zM9 17H7v-7h2v7zm4 0h-2V7h2v10zm4 0h-2v-4h2v4z\"/>\n",
              "    </g>\n",
              "</svg>\n",
              "  </button>\n",
              "\n",
              "<style>\n",
              "  .colab-df-quickchart {\n",
              "      --bg-color: #E8F0FE;\n",
              "      --fill-color: #1967D2;\n",
              "      --hover-bg-color: #E2EBFA;\n",
              "      --hover-fill-color: #174EA6;\n",
              "      --disabled-fill-color: #AAA;\n",
              "      --disabled-bg-color: #DDD;\n",
              "  }\n",
              "\n",
              "  [theme=dark] .colab-df-quickchart {\n",
              "      --bg-color: #3B4455;\n",
              "      --fill-color: #D2E3FC;\n",
              "      --hover-bg-color: #434B5C;\n",
              "      --hover-fill-color: #FFFFFF;\n",
              "      --disabled-bg-color: #3B4455;\n",
              "      --disabled-fill-color: #666;\n",
              "  }\n",
              "\n",
              "  .colab-df-quickchart {\n",
              "    background-color: var(--bg-color);\n",
              "    border: none;\n",
              "    border-radius: 50%;\n",
              "    cursor: pointer;\n",
              "    display: none;\n",
              "    fill: var(--fill-color);\n",
              "    height: 32px;\n",
              "    padding: 0;\n",
              "    width: 32px;\n",
              "  }\n",
              "\n",
              "  .colab-df-quickchart:hover {\n",
              "    background-color: var(--hover-bg-color);\n",
              "    box-shadow: 0 1px 2px rgba(60, 64, 67, 0.3), 0 1px 3px 1px rgba(60, 64, 67, 0.15);\n",
              "    fill: var(--button-hover-fill-color);\n",
              "  }\n",
              "\n",
              "  .colab-df-quickchart-complete:disabled,\n",
              "  .colab-df-quickchart-complete:disabled:hover {\n",
              "    background-color: var(--disabled-bg-color);\n",
              "    fill: var(--disabled-fill-color);\n",
              "    box-shadow: none;\n",
              "  }\n",
              "\n",
              "  .colab-df-spinner {\n",
              "    border: 2px solid var(--fill-color);\n",
              "    border-color: transparent;\n",
              "    border-bottom-color: var(--fill-color);\n",
              "    animation:\n",
              "      spin 1s steps(1) infinite;\n",
              "  }\n",
              "\n",
              "  @keyframes spin {\n",
              "    0% {\n",
              "      border-color: transparent;\n",
              "      border-bottom-color: var(--fill-color);\n",
              "      border-left-color: var(--fill-color);\n",
              "    }\n",
              "    20% {\n",
              "      border-color: transparent;\n",
              "      border-left-color: var(--fill-color);\n",
              "      border-top-color: var(--fill-color);\n",
              "    }\n",
              "    30% {\n",
              "      border-color: transparent;\n",
              "      border-left-color: var(--fill-color);\n",
              "      border-top-color: var(--fill-color);\n",
              "      border-right-color: var(--fill-color);\n",
              "    }\n",
              "    40% {\n",
              "      border-color: transparent;\n",
              "      border-right-color: var(--fill-color);\n",
              "      border-top-color: var(--fill-color);\n",
              "    }\n",
              "    60% {\n",
              "      border-color: transparent;\n",
              "      border-right-color: var(--fill-color);\n",
              "    }\n",
              "    80% {\n",
              "      border-color: transparent;\n",
              "      border-right-color: var(--fill-color);\n",
              "      border-bottom-color: var(--fill-color);\n",
              "    }\n",
              "    90% {\n",
              "      border-color: transparent;\n",
              "      border-bottom-color: var(--fill-color);\n",
              "    }\n",
              "  }\n",
              "</style>\n",
              "\n",
              "  <script>\n",
              "    async function quickchart(key) {\n",
              "      const quickchartButtonEl =\n",
              "        document.querySelector('#' + key + ' button');\n",
              "      quickchartButtonEl.disabled = true;  // To prevent multiple clicks.\n",
              "      quickchartButtonEl.classList.add('colab-df-spinner');\n",
              "      try {\n",
              "        const charts = await google.colab.kernel.invokeFunction(\n",
              "            'suggestCharts', [key], {});\n",
              "      } catch (error) {\n",
              "        console.error('Error during call to suggestCharts:', error);\n",
              "      }\n",
              "      quickchartButtonEl.classList.remove('colab-df-spinner');\n",
              "      quickchartButtonEl.classList.add('colab-df-quickchart-complete');\n",
              "    }\n",
              "    (() => {\n",
              "      let quickchartButtonEl =\n",
              "        document.querySelector('#df-b177f1cc-74e4-42b3-8e6a-664010a23a56 button');\n",
              "      quickchartButtonEl.style.display =\n",
              "        google.colab.kernel.accessAllowed ? 'block' : 'none';\n",
              "    })();\n",
              "  </script>\n",
              "</div>\n",
              "    </div>\n",
              "  </div>\n"
            ],
            "application/vnd.google.colaboratory.intrinsic+json": {
              "type": "dataframe",
              "variable_name": "data",
              "summary": "{\n  \"name\": \"data\",\n  \"rows\": 10,\n  \"fields\": [\n    {\n      \"column\": \"id\",\n      \"properties\": {\n        \"dtype\": \"number\",\n        \"std\": 3,\n        \"min\": 1,\n        \"max\": 10,\n        \"num_unique_values\": 10,\n        \"samples\": [\n          9,\n          2,\n          6\n        ],\n        \"semantic_type\": \"\",\n        \"description\": \"\"\n      }\n    },\n    {\n      \"column\": \"X\",\n      \"properties\": {\n        \"dtype\": \"number\",\n        \"std\": 6,\n        \"min\": 3,\n        \"max\": 24,\n        \"num_unique_values\": 10,\n        \"samples\": [\n          3,\n          14,\n          5\n        ],\n        \"semantic_type\": \"\",\n        \"description\": \"\"\n      }\n    },\n    {\n      \"column\": \"Y\",\n      \"properties\": {\n        \"dtype\": \"number\",\n        \"std\": 15,\n        \"min\": 9,\n        \"max\": 62,\n        \"num_unique_values\": 9,\n        \"samples\": [\n          36,\n          41,\n          14\n        ],\n        \"semantic_type\": \"\",\n        \"description\": \"\"\n      }\n    }\n  ]\n}"
            }
          },
          "metadata": {},
          "execution_count": 3
        }
      ]
    },
    {
      "cell_type": "code",
      "source": [
        "sns.scatterplot(x=data.X, y=data.Y)"
      ],
      "metadata": {
        "colab": {
          "base_uri": "https://localhost:8080/",
          "height": 466
        },
        "id": "aXc-4GkqFk-4",
        "outputId": "f761dd5c-4236-4d38-eef3-0690ed37be0c"
      },
      "execution_count": 6,
      "outputs": [
        {
          "output_type": "execute_result",
          "data": {
            "text/plain": [
              "<Axes: xlabel='X', ylabel='Y'>"
            ]
          },
          "metadata": {},
          "execution_count": 6
        },
        {
          "output_type": "display_data",
          "data": {
            "text/plain": [
              "<Figure size 640x480 with 1 Axes>"
            ],
            "image/png": "[encoded data removed]"
          },
          "metadata": {}
        }
      ]
    },
    {
      "source": [
        "from matplotlib import pyplot as plt\n",
        "data.plot(kind='scatter', x='X', y='Y', s=32, alpha=.8)\n",
        "plt.gca().spines[['top', 'right',]].set_visible(False)"
      ],
      "cell_type": "code",
      "metadata": {
        "colab": {
          "base_uri": "https://localhost:8080/",
          "height": 449
        },
        "id": "ntu0HWTM73AI",
        "outputId": "acfb2a83-9380-4e6f-a80e-f87e9d3b788a"
      },
      "execution_count": 23,
      "outputs": [
        {
          "output_type": "display_data",
          "data": {
            "text/plain": [
              "<Figure size 640x480 with 1 Axes>"
            ],
            "image/png": "[encoded data removed]"
          },
          "metadata": {}
        }
      ]
    },
    {
      "cell_type": "markdown",
      "source": [
        "Определим выборочные средние столбцов X и Y"
      ],
      "metadata": {
        "id": "fI_K5mit6KJq"
      }
    },
    {
      "cell_type": "code",
      "source": [
        "print(data.X.mean())  # или так print(data.['X'].mean()\n",
        "print(data.Y.mean())"
      ],
      "metadata": {
        "colab": {
          "base_uri": "https://localhost:8080/"
        },
        "id": "us-BsXBL6Ond",
        "outputId": "d21c8928-8a5d-405e-e48e-c28ae7d8a9b0"
      },
      "execution_count": 4,
      "outputs": [
        {
          "output_type": "stream",
          "name": "stdout",
          "text": [
            "13.0\n",
            "28.6\n"
          ]
        }
      ]
    },
    {
      "cell_type": "code",
      "source": [
        "#подключаем модель линейной регрессии из библиотеки sklearn\n",
        "from sklearn.linear_model import LinearRegression"
      ],
      "metadata": {
        "id": "3mkvpj_06xFE"
      },
      "execution_count": 5,
      "outputs": []
    },
    {
      "cell_type": "code",
      "source": [
        "X_train = pd.DataFrame(data.X)  # выделяем целевые признаки по столбцу х"
      ],
      "metadata": {
        "id": "jbLTU2a869nV"
      },
      "execution_count": 6,
      "outputs": []
    },
    {
      "cell_type": "code",
      "source": [
        "y_train = pd.DataFrame(data.Y) # выделяем целевые признаки по столбцу y"
      ],
      "metadata": {
        "id": "VIF6Lyke6_gU"
      },
      "execution_count": 7,
      "outputs": []
    },
    {
      "cell_type": "code",
      "source": [
        "#обучаем модель линейной регрессии\n",
        "reg_model = LinearRegression().fit(X_train, y_train)"
      ],
      "metadata": {
        "id": "TL9WrhCc7Dqf"
      },
      "execution_count": 8,
      "outputs": []
    },
    {
      "cell_type": "markdown",
      "source": [
        "Найдем коэффициенты  Θ0  и  Θ1"
      ],
      "metadata": {
        "id": "g1bJWUnJ7GzM"
      }
    },
    {
      "cell_type": "code",
      "source": [
        "# Тета 0\n",
        "reg_model.intercept_"
      ],
      "metadata": {
        "colab": {
          "base_uri": "https://localhost:8080/"
        },
        "id": "XReYxkuD7HR2",
        "outputId": "fd4c3b83-c4eb-4eaa-9370-0ea5d5fb7eff"
      },
      "execution_count": 9,
      "outputs": [
        {
          "output_type": "execute_result",
          "data": {
            "text/plain": [
              "array([0.5144385])"
            ]
          },
          "metadata": {},
          "execution_count": 9
        }
      ]
    },
    {
      "cell_type": "code",
      "source": [
        "# Тета 1\n",
        "reg_model.coef_"
      ],
      "metadata": {
        "colab": {
          "base_uri": "https://localhost:8080/"
        },
        "id": "WsaLK4gB7RB4",
        "outputId": "3674a1bf-4711-4191-c79c-d2e7b0ce12fb"
      },
      "execution_count": 10,
      "outputs": [
        {
          "output_type": "execute_result",
          "data": {
            "text/plain": [
              "array([[2.16042781]])"
            ]
          },
          "metadata": {},
          "execution_count": 10
        }
      ]
    },
    {
      "cell_type": "markdown",
      "source": [
        "\n",
        "Для нахождения  R2  в данном случае нужно определить предсказания модели для тренировочных данных"
      ],
      "metadata": {
        "id": "WJ4WnxU08kIf"
      }
    },
    {
      "cell_type": "markdown",
      "source": [
        "![image.png](data:image/png;base64,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)"
      ],
      "metadata": {
        "id": "tkyGSi6pbiSE"
      }
    },
    {
      "cell_type": "code",
      "source": [
        "y_predicted = reg_model.predict(X_train)      # ТО ЕСТЬ ТУТ МЫ СМОТРИМ НАСКОЛЬКО МОЕЛЬ ПРЕДСКАЗАЛА НАШИ ДАННЫЕ В КОЛОНКЕ y\n",
        "y_predicted"
      ],
      "metadata": {
        "colab": {
          "base_uri": "https://localhost:8080/"
        },
        "id": "9iEARN_j8kl6",
        "outputId": "7823d371-3e22-4293-aa09-4e34dbe42999"
      },
      "execution_count": 11,
      "outputs": [
        {
          "output_type": "execute_result",
          "data": {
            "text/plain": [
              "array([[26.43957219],\n",
              "       [30.76042781],\n",
              "       [52.36470588],\n",
              "       [28.6       ],\n",
              "       [32.92085561],\n",
              "       [11.31657754],\n",
              "       [35.08128342],\n",
              "       [43.72299465],\n",
              "       [ 6.99572193],\n",
              "       [17.79786096]])"
            ]
          },
          "metadata": {},
          "execution_count": 11
        }
      ]
    },
    {
      "cell_type": "code",
      "source": [
        "from sklearn.metrics import r2_score\n",
        "r2_score(y_train, y_predicted)"
      ],
      "metadata": {
        "colab": {
          "base_uri": "https://localhost:8080/"
        },
        "id": "H6ehHGXm8zt_",
        "outputId": "c8359a70-db42-40ec-d336-8730e7fc711a"
      },
      "execution_count": 12,
      "outputs": [
        {
          "output_type": "execute_result",
          "data": {
            "text/plain": [
              "0.8232530034187879"
            ]
          },
          "metadata": {},
          "execution_count": 12
        }
      ]
    },
    {
      "cell_type": "markdown",
      "source": [
        "МОЖНО СДЕЛАТЬ КАК ДЕЛАЕТСЯ С БОЛЬШИМИ ДАННЫМИ ПОПРБОВАТЬ РАЗДЕЛЕНИЕ НА 80/20 , НО В ИТОГЕ КОНЕЧНО МЫ ПОЛУЧИМ НЕ СОВСЕМ ПОДХОДЯЩИЙ РЕЗУЛЬТАТ, ХОТЯ И ВЕРНЫЙ, МОДЕЛЬ НА ТЕСТОВЫХ ДАСТ БОЛЬШУЮ ОШИБКУ И ЭТО И ПОНЯТНО, МЫ ЖЕ ПОЧТИ ВСЕ ЦИФРЫ УБРАЛИ И ХОТИМ ЧТО ТО ПОЛУЧИТЬ. НО ЭТО ПОЗВОЛЯЕТ ПОКАЗАТЬ КАК РАБОТАЕТ МОДЕЛЬ И ЛУЧШЕ ПОНЯТЬ ЕЕ ДЕЙСТВИЯ."
      ],
      "metadata": {
        "id": "jDDri76X64Wc"
      }
    },
    {
      "cell_type": "code",
      "source": [
        "X = pd.DataFrame(data.X)  # выделяем целевые признаки по столбцу х"
      ],
      "metadata": {
        "id": "wUAyNElX4iq0"
      },
      "execution_count": 14,
      "outputs": []
    },
    {
      "cell_type": "code",
      "source": [
        "y = pd.DataFrame(data.Y) # выделяем целевые признаки по столбцу y"
      ],
      "metadata": {
        "id": "Reb-CKzt4e6h"
      },
      "execution_count": 15,
      "outputs": []
    },
    {
      "cell_type": "code",
      "source": [
        "from sklearn.model_selection import train_test_split\n",
        "from sklearn.linear_model import LinearRegression\n",
        "\n",
        "# Предположим, у вас есть данные X и y\n",
        "# X - это матрица признаков (например, столбец x)\n",
        "# y - это вектор целевой переменной (например, столбец y)\n",
        "\n",
        "# Разделение данных на обучающую и тестовую выборки\n",
        "X_train, X_test, y_train, y_test = train_test_split(X, y, test_size=0.2, random_state=42)\n",
        "\n",
        "# Обучение модели линейной регрессии на обучающей выборке\n",
        "reg_model = LinearRegression().fit(X_train, y_train)\n",
        "\n",
        "# Предсказание на обучающей выборке (для проверки)\n",
        "y_train_predicted = reg_model.predict(X_train)\n",
        "\n",
        "# Предсказание на тестовой выборке\n",
        "y_test_predicted = reg_model.predict(X_test)\n",
        "\n",
        "# Теперь у вас есть предсказания на тестовой выборке, которые можно сравнить с реальными значениями y_test"
      ],
      "metadata": {
        "id": "MSdbTL084Mfn"
      },
      "execution_count": 16,
      "outputs": []
    },
    {
      "cell_type": "code",
      "source": [
        "y_train_predicted"
      ],
      "metadata": {
        "colab": {
          "base_uri": "https://localhost:8080/"
        },
        "id": "RiQMUUG55y8e",
        "outputId": "1596f712-b029-489e-e85c-80a20ae32d7b"
      },
      "execution_count": 21,
      "outputs": [
        {
          "output_type": "execute_result",
          "data": {
            "text/plain": [
              "array([[ 8.96766524],\n",
              "       [24.71849738],\n",
              "       [42.71944841],\n",
              "       [51.71992392],\n",
              "       [15.71802187],\n",
              "       [31.46885402],\n",
              "       [26.96861626],\n",
              "       [33.7189729 ]])"
            ]
          },
          "metadata": {},
          "execution_count": 21
        }
      ]
    },
    {
      "cell_type": "code",
      "source": [
        "y_test_predicted"
      ],
      "metadata": {
        "colab": {
          "base_uri": "https://localhost:8080/"
        },
        "id": "KwKcQq6x4qz4",
        "outputId": "cd8fcd07-ba0f-4bb0-f593-c3e124d2e468"
      },
      "execution_count": 18,
      "outputs": [
        {
          "output_type": "execute_result",
          "data": {
            "text/plain": [
              "array([[ 4.46742748],\n",
              "       [29.21873514]])"
            ]
          },
          "metadata": {},
          "execution_count": 18
        }
      ]
    },
    {
      "cell_type": "code",
      "source": [
        "# Вычисление R² на обучающей выборке\n",
        "r2_train = r2_score(y_train, y_train_predicted)\n",
        "print(f\"R² на обучающей выборке: {r2_train}\")\n",
        "\n",
        "# Вычисление R² на тестовой выборке\n",
        "r2_test = r2_score(y_test, y_test_predicted)\n",
        "print(f\"R² на тестовой выборке: {r2_test}\")"
      ],
      "metadata": {
        "colab": {
          "base_uri": "https://localhost:8080/"
        },
        "id": "3QvZLNpE6UJl",
        "outputId": "13fc91d0-5a84-4926-ee9a-61bb70d0a382"
      },
      "execution_count": 22,
      "outputs": [
        {
          "output_type": "stream",
          "name": "stdout",
          "text": [
            "R² на обучающей выборке: 0.8445084493749562\n",
            "R² на тестовой выборке: 0.6887843451116751\n"
          ]
        }
      ]
    },
    {
      "cell_type": "code",
      "source": [
        "import matplotlib.pyplot as plt\n",
        "import numpy as np\n",
        "from sklearn.model_selection import train_test_split\n",
        "from sklearn.linear_model import LinearRegression\n",
        "from sklearn.metrics import r2_score"
      ],
      "metadata": {
        "id": "woNJk48H8m2w"
      },
      "execution_count": null,
      "outputs": []
    },
    {
      "cell_type": "code",
      "source": [
        "# Построение графика\n",
        "plt.figure(figsize=(10, 6))\n",
        "\n",
        "# График для обучающей выборки\n",
        "plt.scatter(X_train, y_train, color='blue', label='Обучающая выборка (истинные значения)', s=32, alpha=0.8)\n",
        "plt.scatter(X_train, y_train_predicted, color='red', label='Обучающая выборка (предсказанные значения)', s=32, alpha=0.8)\n",
        "\n",
        "# График для тестовой выборки\n",
        "plt.scatter(X_test, y_test, color='green', label='Тестовая выборка (истинные значения)', s=32, alpha=0.8)\n",
        "plt.scatter(X_test, y_test_predicted, color='orange', label='Тестовая выборка (предсказанные значения)', s=32, alpha=0.8)\n",
        "\n",
        "# Настройка графика\n",
        "plt.xlabel('X')\n",
        "plt.ylabel('y')"
      ],
      "metadata": {
        "colab": {
          "base_uri": "https://localhost:8080/",
          "height": 559
        },
        "id": "y1syr85v8uzT",
        "outputId": "a4b89253-c7b2-496a-c471-4e9aeddbd6d9"
      },
      "execution_count": 25,
      "outputs": [
        {
          "output_type": "execute_result",
          "data": {
            "text/plain": [
              "Text(0, 0.5, 'y')"
            ]
          },
          "metadata": {},
          "execution_count": 25
        },
        {
          "output_type": "display_data",
          "data": {
            "text/plain": [
              "<Figure size 1000x600 with 1 Axes>"
            ],
            "image/png": "[encoded data removed]"
          },
          "metadata": {}
        }
      ]
    }
  ]
}